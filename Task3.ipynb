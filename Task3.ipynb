{
 "cells": [
  {
   "cell_type": "markdown",
   "metadata": {},
   "source": [
    "# Laboratorio No. 5 - Modelación y Simulación"
   ]
  },
  {
   "cell_type": "markdown",
   "metadata": {},
   "source": [
    "### Task No. 3"
   ]
  },
  {
   "cell_type": "markdown",
   "metadata": {},
   "source": [
    "Manuel Rodas - 21509 / Jose Santisteban - 21153 / Sebastian Solorzano - 21826"
   ]
  },
  {
   "cell_type": "code",
   "execution_count": 1,
   "metadata": {},
   "outputs": [],
   "source": [
    "import numpy as np"
   ]
  },
  {
   "cell_type": "code",
   "execution_count": 2,
   "metadata": {},
   "outputs": [],
   "source": [
    "# Parámetro de costo de capital\n",
    "cost_capital = 0.10"
   ]
  },
  {
   "cell_type": "markdown",
   "metadata": {},
   "source": [
    "### Función para calcular VPN"
   ]
  },
  {
   "cell_type": "code",
   "execution_count": 3,
   "metadata": {},
   "outputs": [],
   "source": [
    "def calculate_vpn(flows, discount_rate):\n",
    "    return np.sum([flow / (1 + discount_rate) ** t for t, flow in enumerate(flows)])"
   ]
  },
  {
   "cell_type": "markdown",
   "metadata": {},
   "source": [
    "### Simulaciones de cada proyecto"
   ]
  },
  {
   "cell_type": "code",
   "execution_count": 4,
   "metadata": {},
   "outputs": [],
   "source": [
    "def simulate_project(flows, num_iterations):\n",
    "    vpns = []\n",
    "    for _ in range(num_iterations):\n",
    "        simulated_flows = [np.random.normal(mean, std) for mean, std in flows]\n",
    "        vpn = calculate_vpn(simulated_flows, cost_capital)\n",
    "        vpns.append(vpn)\n",
    "    return np.mean(vpns), np.std(vpns)"
   ]
  },
  {
   "cell_type": "markdown",
   "metadata": {},
   "source": [
    "### Flujos de caja"
   ]
  },
  {
   "cell_type": "code",
   "execution_count": 5,
   "metadata": {},
   "outputs": [],
   "source": [
    "# Proyecto Hotel\n",
    "flows_hotel = [\n",
    "    (-800, 0),\n",
    "    (-800, 50),\n",
    "    (-800, 100),\n",
    "    (-700, 150),\n",
    "    (300, 200),\n",
    "    (400, 200),\n",
    "    (500, 200),\n",
    "    (200, 8440)\n",
    "]"
   ]
  },
  {
   "cell_type": "code",
   "execution_count": 6,
   "metadata": {},
   "outputs": [],
   "source": [
    "# Proyecto Centro Comercial\n",
    "flows_centro_comercial = [\n",
    "    (-900, 0),\n",
    "    (-600, 50),\n",
    "    (-200, 50),\n",
    "    (-600, 100),\n",
    "    (250, 150),\n",
    "    (350, 150),\n",
    "    (400, 150),\n",
    "    (1600, 6000)\n",
    "]"
   ]
  },
  {
   "cell_type": "markdown",
   "metadata": {},
   "source": [
    "### Resultados"
   ]
  },
  {
   "cell_type": "code",
   "execution_count": 7,
   "metadata": {},
   "outputs": [
    {
     "name": "stdout",
     "output_type": "stream",
     "text": [
      "\n",
      "Simulación con 100 iteraciones:\n",
      "Proyecto Hotel: VPN promedio = -2039.28, Desviación estándar = 4399.89\n",
      "Proyecto Centro Comercial: VPN promedio = -410.30, Desviación estándar = 3086.92\n",
      "El Proyecto Centro Comercial es más rentable.\n",
      "\n",
      "Simulación con 1000 iteraciones:\n",
      "Proyecto Hotel: VPN promedio = -1819.62, Desviación estándar = 4198.90\n",
      "Proyecto Centro Comercial: VPN promedio = -538.07, Desviación estándar = 3223.08\n",
      "El Proyecto Centro Comercial es más rentable.\n",
      "\n",
      "Simulación con 10000 iteraciones:\n",
      "Proyecto Hotel: VPN promedio = -1932.15, Desviación estándar = 4351.25\n",
      "Proyecto Centro Comercial: VPN promedio = -607.47, Desviación estándar = 3082.65\n",
      "El Proyecto Centro Comercial es más rentable.\n"
     ]
    }
   ],
   "source": [
    "iterations = [100, 1000, 10000]\n",
    "for num_iterations in iterations:\n",
    "    mean_vpn_hotel, std_vpn_hotel = simulate_project(flows_hotel, num_iterations)\n",
    "    mean_vpn_centro_comercial, std_vpn_centro_comercial = simulate_project(flows_centro_comercial, num_iterations)\n",
    "    \n",
    "    print(f\"\\nSimulación con {num_iterations} iteraciones:\")\n",
    "    print(f\"Proyecto Hotel: VPN promedio = {mean_vpn_hotel:.2f}, Desviación estándar = {std_vpn_hotel:.2f}\")\n",
    "    print(f\"Proyecto Centro Comercial: VPN promedio = {mean_vpn_centro_comercial:.2f}, Desviación estándar = {std_vpn_centro_comercial:.2f}\")\n",
    "\n",
    "    if mean_vpn_hotel > mean_vpn_centro_comercial:\n",
    "        print(\"El Proyecto Hotel es más rentable.\")\n",
    "    else:\n",
    "        print(\"El Proyecto Centro Comercial es más rentable.\")"
   ]
  }
 ],
 "metadata": {
  "kernelspec": {
   "display_name": "Python 3",
   "language": "python",
   "name": "python3"
  },
  "language_info": {
   "codemirror_mode": {
    "name": "ipython",
    "version": 3
   },
   "file_extension": ".py",
   "mimetype": "text/x-python",
   "name": "python",
   "nbconvert_exporter": "python",
   "pygments_lexer": "ipython3",
   "version": "3.11.7"
  }
 },
 "nbformat": 4,
 "nbformat_minor": 2
}
